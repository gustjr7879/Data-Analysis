{
 "cells": [
  {
   "cell_type": "code",
   "execution_count": 1,
   "metadata": {},
   "outputs": [],
   "source": [
    "import pandas as pd"
   ]
  },
  {
   "cell_type": "code",
   "execution_count": 2,
   "metadata": {},
   "outputs": [
    {
     "name": "stdout",
     "output_type": "stream",
     "text": [
      "  manufacturer model  displ  year  cyl       trans drv  cty  hwy fl category\n",
      "0         audi    a4    1.8  1999    4    auto(l5)   f   18   29  p  compact\n",
      "1         audi    a4    1.8  1999    4  manual(m5)   f   21   29  p  compact\n",
      "2         audi    a4    2.0  2008    4  manual(m6)   f   20   31  p  compact\n",
      "3         audi    a4    2.0  2008    4    auto(av)   f   21   30  p  compact\n",
      "4         audi    a4    2.8  1999    6    auto(l5)   f   16   26  p  compact\n"
     ]
    }
   ],
   "source": [
    "mpg = pd.read_csv('./mpg.csv')\n",
    "print(mpg.head())"
   ]
  },
  {
   "cell_type": "code",
   "execution_count": 3,
   "metadata": {},
   "outputs": [
    {
     "name": "stdout",
     "output_type": "stream",
     "text": [
      "(234, 11)\n"
     ]
    }
   ],
   "source": [
    "print(mpg.shape)"
   ]
  },
  {
   "cell_type": "code",
   "execution_count": 4,
   "metadata": {},
   "outputs": [
    {
     "name": "stdout",
     "output_type": "stream",
     "text": [
      "<class 'pandas.core.frame.DataFrame'>\n",
      "RangeIndex: 234 entries, 0 to 233\n",
      "Data columns (total 11 columns):\n",
      " #   Column        Non-Null Count  Dtype  \n",
      "---  ------        --------------  -----  \n",
      " 0   manufacturer  234 non-null    object \n",
      " 1   model         234 non-null    object \n",
      " 2   displ         234 non-null    float64\n",
      " 3   year          234 non-null    int64  \n",
      " 4   cyl           234 non-null    int64  \n",
      " 5   trans         234 non-null    object \n",
      " 6   drv           234 non-null    object \n",
      " 7   cty           234 non-null    int64  \n",
      " 8   hwy           234 non-null    int64  \n",
      " 9   fl            234 non-null    object \n",
      " 10  category      234 non-null    object \n",
      "dtypes: float64(1), int64(4), object(6)\n",
      "memory usage: 20.2+ KB\n",
      "None\n",
      "            displ         year         cyl         cty         hwy\n",
      "count  234.000000   234.000000  234.000000  234.000000  234.000000\n",
      "mean     3.471795  2003.500000    5.888889   16.858974   23.440171\n",
      "std      1.291959     4.509646    1.611534    4.255946    5.954643\n",
      "min      1.600000  1999.000000    4.000000    9.000000   12.000000\n",
      "25%      2.400000  1999.000000    4.000000   14.000000   18.000000\n",
      "50%      3.300000  2003.500000    6.000000   17.000000   24.000000\n",
      "75%      4.600000  2008.000000    8.000000   19.000000   27.000000\n",
      "max      7.000000  2008.000000    8.000000   35.000000   44.000000\n"
     ]
    }
   ],
   "source": [
    "print(mpg.info())\n",
    "print(mpg.describe())"
   ]
  },
  {
   "cell_type": "code",
   "execution_count": 5,
   "metadata": {},
   "outputs": [
    {
     "name": "stdout",
     "output_type": "stream",
     "text": [
      "       manufacturer        model       displ         year         cyl  \\\n",
      "count           234          234  234.000000   234.000000  234.000000   \n",
      "unique           15           38         NaN          NaN         NaN   \n",
      "top           dodge  caravan 2wd         NaN          NaN         NaN   \n",
      "freq             37           11         NaN          NaN         NaN   \n",
      "mean            NaN          NaN    3.471795  2003.500000    5.888889   \n",
      "std             NaN          NaN    1.291959     4.509646    1.611534   \n",
      "min             NaN          NaN    1.600000  1999.000000    4.000000   \n",
      "25%             NaN          NaN    2.400000  1999.000000    4.000000   \n",
      "50%             NaN          NaN    3.300000  2003.500000    6.000000   \n",
      "75%             NaN          NaN    4.600000  2008.000000    8.000000   \n",
      "max             NaN          NaN    7.000000  2008.000000    8.000000   \n",
      "\n",
      "           trans  drv         cty         hwy   fl category  \n",
      "count        234  234  234.000000  234.000000  234      234  \n",
      "unique        10    3         NaN         NaN    5        7  \n",
      "top     auto(l4)    f         NaN         NaN    r      suv  \n",
      "freq          83  106         NaN         NaN  168       62  \n",
      "mean         NaN  NaN   16.858974   23.440171  NaN      NaN  \n",
      "std          NaN  NaN    4.255946    5.954643  NaN      NaN  \n",
      "min          NaN  NaN    9.000000   12.000000  NaN      NaN  \n",
      "25%          NaN  NaN   14.000000   18.000000  NaN      NaN  \n",
      "50%          NaN  NaN   17.000000   24.000000  NaN      NaN  \n",
      "75%          NaN  NaN   19.000000   27.000000  NaN      NaN  \n",
      "max          NaN  NaN   35.000000   44.000000  NaN      NaN  \n"
     ]
    }
   ],
   "source": [
    "print(mpg.describe(include='all')) #요약된 것이 아닌 전부다 출력"
   ]
  },
  {
   "cell_type": "code",
   "execution_count": 6,
   "metadata": {},
   "outputs": [
    {
     "name": "stdout",
     "output_type": "stream",
     "text": [
      "   var1  var2\n",
      "0     1     2\n",
      "1     2     3\n",
      "2     3     2\n"
     ]
    }
   ],
   "source": [
    "#manufacturer를 보고 15개 종류가 있고 가장 많이 팔린 것은 37종이란 것을 알 수 있다.\n",
    "#top을 보고 dodge가 가장 많이 판 것을 확인할 수 있다. \n",
    "#이와 같이 데이터의 특징을 파악할 수 있고 이 작업은 가장 먼저 해야한다. \n",
    "#함수와 메서드는 ()가 필요하지만 어트리뷰트는 ()가 필요없다 df.shape와 df.head()의 차이\n",
    "\n",
    "#변수명 바꾸기 \n",
    "#데이터를 처리하다보면 변수명이 이상하게 되어있는 경우가 많다.\n",
    "#이런 경우 변수이름을 바꿔줘서 알아보기 편하게 만들 수 있다.\n",
    "#df.rename()을 사용해서 변수이름을 바꿀 수 있다.\n",
    "\n",
    "df_raw = pd.DataFrame({\n",
    "    'var1':[1,2,3],\n",
    "    'var2':[2,3,2]\n",
    "})\n",
    "\n",
    "print(df_raw)"
   ]
  },
  {
   "cell_type": "code",
   "execution_count": 8,
   "metadata": {},
   "outputs": [
    {
     "name": "stdout",
     "output_type": "stream",
     "text": [
      "   v1  var2\n",
      "0   1     2\n",
      "1   2     3\n",
      "2   3     2\n"
     ]
    }
   ],
   "source": [
    "#var1과 var2가 뭘 뜻하는지 알기 어렵다. \n",
    "df_new = df_raw.copy() #데이터를 변형할 땐 꼭 복사를 해두고 하자\n",
    "df_new = df_new.rename(columns={'var1':'v1'}) #column을 설정하고 딕셔너리 형태로 매핑해주면 변경된다.\n",
    "print(df_new)"
   ]
  },
  {
   "cell_type": "code",
   "execution_count": 10,
   "metadata": {},
   "outputs": [
    {
     "name": "stdout",
     "output_type": "stream",
     "text": [
      "Index(['manufacturer', 'model', 'displ', 'year', 'cyl', 'trans', 'drv', 'city',\n",
      "       'highway', 'fl', 'category'],\n",
      "      dtype='object')\n"
     ]
    }
   ],
   "source": [
    "#mpg데이터에서 cty는 도시 연비, hwy는 고속도로 연비를 뜻한다. 쉽게 바꿔보자\n",
    "mpg_new = mpg.copy()\n",
    "mpg_new = mpg_new.rename(columns={'cty':'city','hwy':'highway'})\n",
    "print(mpg_new.columns) #잘 바뀐것을 확인할 수 있다. "
   ]
  },
  {
   "cell_type": "code",
   "execution_count": 11,
   "metadata": {},
   "outputs": [
    {
     "name": "stdout",
     "output_type": "stream",
     "text": [
      "   v1  var2  sum\n",
      "0   1     2    3\n",
      "1   2     3    5\n",
      "2   3     2    5\n"
     ]
    }
   ],
   "source": [
    "#데이터에 들어있는 변수만 사용해서 분석할 수 있지만, 변수를 조합하거나 함수를 이용해서 새 변수를 만들어 분석할 수 있다. \n",
    "df_new['sum'] = df_new['v1'] + df_new['var2']\n",
    "print(df_new) #데이터 프레임은 위와 같이 브로드캐스트 연산이 가능하다."
   ]
  },
  {
   "cell_type": "code",
   "execution_count": 12,
   "metadata": {},
   "outputs": [
    {
     "name": "stdout",
     "output_type": "stream",
     "text": [
      "   v1  var2  sum  mean\n",
      "0   1     2    3   1.5\n",
      "1   2     3    5   2.5\n",
      "2   3     2    5   2.5\n"
     ]
    }
   ],
   "source": [
    "df_new['mean'] = df_new['sum']/2\n",
    "print(df_new)"
   ]
  },
  {
   "cell_type": "code",
   "execution_count": 14,
   "metadata": {},
   "outputs": [
    {
     "name": "stdout",
     "output_type": "stream",
     "text": [
      "0      23.5\n",
      "1      25.0\n",
      "2      25.5\n",
      "3      25.5\n",
      "4      21.0\n",
      "       ... \n",
      "229    23.5\n",
      "230    25.0\n",
      "231    21.0\n",
      "232    22.0\n",
      "233    21.5\n",
      "Name: total, Length: 234, dtype: float64\n",
      "20.14957264957265\n"
     ]
    }
   ],
   "source": [
    "#mpg로 통합 연비 변수 만들기\n",
    "mpg_new['total'] = (mpg_new['city'] + mpg_new['highway'])/2\n",
    "print(mpg_new['total'])\n",
    "#통합연비의 평균 구하기\n",
    "print(mpg_new['total'].mean())"
   ]
  },
  {
   "cell_type": "code",
   "execution_count": 15,
   "metadata": {},
   "outputs": [
    {
     "name": "stdout",
     "output_type": "stream",
     "text": [
      "count    234.000000\n",
      "mean      20.149573\n",
      "std        5.050290\n",
      "min       10.500000\n",
      "25%       15.500000\n",
      "50%       20.500000\n",
      "75%       23.500000\n",
      "max       39.500000\n",
      "Name: total, dtype: float64\n"
     ]
    }
   ],
   "source": [
    "print(mpg_new['total'].describe())"
   ]
  },
  {
   "cell_type": "code",
   "execution_count": 16,
   "metadata": {},
   "outputs": [
    {
     "name": "stdout",
     "output_type": "stream",
     "text": [
      "    manufacturer   model  displ  year  cyl       trans drv  city  highway fl  \\\n",
      "0           audi      a4    1.8  1999    4    auto(l5)   f    18       29  p   \n",
      "1           audi      a4    1.8  1999    4  manual(m5)   f    21       29  p   \n",
      "2           audi      a4    2.0  2008    4  manual(m6)   f    20       31  p   \n",
      "3           audi      a4    2.0  2008    4    auto(av)   f    21       30  p   \n",
      "4           audi      a4    2.8  1999    6    auto(l5)   f    16       26  p   \n",
      "..           ...     ...    ...   ...  ...         ...  ..   ...      ... ..   \n",
      "229   volkswagen  passat    2.0  2008    4    auto(s6)   f    19       28  p   \n",
      "230   volkswagen  passat    2.0  2008    4  manual(m6)   f    21       29  p   \n",
      "231   volkswagen  passat    2.8  1999    6    auto(l5)   f    16       26  p   \n",
      "232   volkswagen  passat    2.8  1999    6  manual(m5)   f    18       26  p   \n",
      "233   volkswagen  passat    3.6  2008    6    auto(s6)   f    17       26  p   \n",
      "\n",
      "    category  total good  \n",
      "0    compact   23.5   합격  \n",
      "1    compact   25.0   합격  \n",
      "2    compact   25.5   합격  \n",
      "3    compact   25.5   합격  \n",
      "4    compact   21.0   합격  \n",
      "..       ...    ...  ...  \n",
      "229  midsize   23.5   합격  \n",
      "230  midsize   25.0   합격  \n",
      "231  midsize   21.0   합격  \n",
      "232  midsize   22.0   합격  \n",
      "233  midsize   21.5   합격  \n",
      "\n",
      "[234 rows x 13 columns]\n"
     ]
    }
   ],
   "source": [
    "#일정 기준 이상만 빼서 파생 변수 만들기\n",
    "def chk(x):\n",
    "    if x > 20:\n",
    "        x = '합격'\n",
    "    else:\n",
    "        x = '불합격'\n",
    "    return x\n",
    "mpg_new['good'] = mpg_new['total'].apply(lambda x: chk(x))\n",
    "print(mpg_new)"
   ]
  },
  {
   "cell_type": "code",
   "execution_count": 17,
   "metadata": {},
   "outputs": [
    {
     "name": "stdout",
     "output_type": "stream",
     "text": [
      "    manufacturer   model  displ  year  cyl       trans drv  city  highway fl  \\\n",
      "0           audi      a4    1.8  1999    4    auto(l5)   f    18       29  p   \n",
      "1           audi      a4    1.8  1999    4  manual(m5)   f    21       29  p   \n",
      "2           audi      a4    2.0  2008    4  manual(m6)   f    20       31  p   \n",
      "3           audi      a4    2.0  2008    4    auto(av)   f    21       30  p   \n",
      "4           audi      a4    2.8  1999    6    auto(l5)   f    16       26  p   \n",
      "..           ...     ...    ...   ...  ...         ...  ..   ...      ... ..   \n",
      "229   volkswagen  passat    2.0  2008    4    auto(s6)   f    19       28  p   \n",
      "230   volkswagen  passat    2.0  2008    4  manual(m6)   f    21       29  p   \n",
      "231   volkswagen  passat    2.8  1999    6    auto(l5)   f    16       26  p   \n",
      "232   volkswagen  passat    2.8  1999    6  manual(m5)   f    18       26  p   \n",
      "233   volkswagen  passat    3.6  2008    6    auto(s6)   f    17       26  p   \n",
      "\n",
      "    category  total good  test  \n",
      "0    compact   23.5   합격  pass  \n",
      "1    compact   25.0   합격  pass  \n",
      "2    compact   25.5   합격  pass  \n",
      "3    compact   25.5   합격  pass  \n",
      "4    compact   21.0   합격  pass  \n",
      "..       ...    ...  ...   ...  \n",
      "229  midsize   23.5   합격  pass  \n",
      "230  midsize   25.0   합격  pass  \n",
      "231  midsize   21.0   합격  pass  \n",
      "232  midsize   22.0   합격  pass  \n",
      "233  midsize   21.5   합격  pass  \n",
      "\n",
      "[234 rows x 14 columns]\n"
     ]
    }
   ],
   "source": [
    "#혹은 numpy를 사용하면 다음과 같이 사용할 수 있다.\n",
    "import numpy as np\n",
    "\n",
    "mpg_new['test'] = np.where(mpg_new['total']>20, 'pass', 'fail') #혹은 np.where(조건문, 참일때, 거짓일 때)를 사용할 수 있다.\n",
    "print(mpg_new)"
   ]
  },
  {
   "cell_type": "code",
   "execution_count": 18,
   "metadata": {},
   "outputs": [
    {
     "name": "stdout",
     "output_type": "stream",
     "text": [
      "합격     123\n",
      "불합격    111\n",
      "Name: good, dtype: int64\n"
     ]
    }
   ],
   "source": [
    "print(mpg_new['good'].value_counts()) #약 반반으로 나뉜 것을 확인할 수 있다."
   ]
  },
  {
   "cell_type": "code",
   "execution_count": 19,
   "metadata": {},
   "outputs": [
    {
     "data": {
      "text/plain": [
       "<AxesSubplot:>"
      ]
     },
     "execution_count": 19,
     "metadata": {},
     "output_type": "execute_result"
    },
    {
     "data": {
      "image/png": "[encoded data removed]",
      "text/plain": [
       "<Figure size 640x480 with 1 Axes>"
      ]
     },
     "metadata": {},
     "output_type": "display_data"
    }
   ],
   "source": [
    "#막대그래프로 시각화하기\n",
    "count_test = mpg_new['test'].value_counts()\n",
    "count_test.plot.bar()"
   ]
  },
  {
   "cell_type": "code",
   "execution_count": 21,
   "metadata": {},
   "outputs": [
    {
     "name": "stdout",
     "output_type": "stream",
     "text": [
      "0      B\n",
      "1      B\n",
      "2      B\n",
      "3      B\n",
      "4      B\n",
      "      ..\n",
      "229    B\n",
      "230    B\n",
      "231    B\n",
      "232    B\n",
      "233    B\n",
      "Name: new_test, Length: 234, dtype: object\n",
      "B    115\n",
      "C    111\n",
      "A      8\n",
      "Name: new_test, dtype: int64\n"
     ]
    }
   ],
   "source": [
    "#np.where은 중첩으로 사용해서 여러가지 범주를 처리할 수 있다.\n",
    "mpg_new['new_test'] = np.where(mpg_new['total']>30,'A',np.where(mpg_new['total']>20,'B','C'))\n",
    "\n",
    "print(mpg_new['new_test'])\n",
    "print(mpg_new['new_test'].value_counts())"
   ]
  },
  {
   "cell_type": "code",
   "execution_count": 22,
   "metadata": {},
   "outputs": [
    {
     "name": "stdout",
     "output_type": "stream",
     "text": [
      "0      small\n",
      "1      small\n",
      "2      small\n",
      "3      small\n",
      "4      small\n",
      "       ...  \n",
      "229    large\n",
      "230    large\n",
      "231    large\n",
      "232    large\n",
      "233    large\n",
      "Name: size, Length: 234, dtype: object\n"
     ]
    }
   ],
   "source": [
    "#또는 np.where에서 여러 조건을 사용할 때 isin을 사용할 수 있다.\n",
    "mpg_new['size'] = np.where(mpg_new['category'].isin(['compact','subcompact','2seater']),'small','large')\n",
    "\n",
    "print(mpg_new['size'])"
   ]
  },
  {
   "cell_type": "code",
   "execution_count": 23,
   "metadata": {},
   "outputs": [],
   "source": [
    "#실습 midwest.csv를 사용한다.\n",
    "#1. 데이터의 특징을 파악한다.\n",
    "#2. poptotal 변수를 total로, popasian 변수를 asian으로 수정한다.\n",
    "#3. total, asian 변수를 사용해서 전체 인구 대비 아시아 인구 백분율 파생변수를 추가하고 히스토그램을 만들어 분포를 살핀다.\n",
    "#4. 아시아 인구 백분율 전체 평균을 구하고 평균을 초과하면 large, 외에는 small인 파생변수를 만든다.\n",
    "#5. large와 small에 해당하는 지역이 얼마나 많은지 빈도표와 빈도막대그래프를 만들어 확인한다."
   ]
  },
  {
   "cell_type": "code",
   "execution_count": 24,
   "metadata": {},
   "outputs": [
    {
     "name": "stdout",
     "output_type": "stream",
     "text": [
      "<class 'pandas.core.frame.DataFrame'>\n",
      "RangeIndex: 437 entries, 0 to 436\n",
      "Data columns (total 28 columns):\n",
      " #   Column                Non-Null Count  Dtype  \n",
      "---  ------                --------------  -----  \n",
      " 0   PID                   437 non-null    int64  \n",
      " 1   county                437 non-null    object \n",
      " 2   state                 437 non-null    object \n",
      " 3   area                  437 non-null    float64\n",
      " 4   poptotal              437 non-null    int64  \n",
      " 5   popdensity            437 non-null    float64\n",
      " 6   popwhite              437 non-null    int64  \n",
      " 7   popblack              437 non-null    int64  \n",
      " 8   popamerindian         437 non-null    int64  \n",
      " 9   popasian              437 non-null    int64  \n",
      " 10  popother              437 non-null    int64  \n",
      " 11  percwhite             437 non-null    float64\n",
      " 12  percblack             437 non-null    float64\n",
      " 13  percamerindan         437 non-null    float64\n",
      " 14  percasian             437 non-null    float64\n",
      " 15  percother             437 non-null    float64\n",
      " 16  popadults             437 non-null    int64  \n",
      " 17  perchsd               437 non-null    float64\n",
      " 18  percollege            437 non-null    float64\n",
      " 19  percprof              437 non-null    float64\n",
      " 20  poppovertyknown       437 non-null    int64  \n",
      " 21  percpovertyknown      437 non-null    float64\n",
      " 22  percbelowpoverty      437 non-null    float64\n",
      " 23  percchildbelowpovert  437 non-null    float64\n",
      " 24  percadultpoverty      437 non-null    float64\n",
      " 25  percelderlypoverty    437 non-null    float64\n",
      " 26  inmetro               437 non-null    int64  \n",
      " 27  category              437 non-null    object \n",
      "dtypes: float64(15), int64(10), object(3)\n",
      "memory usage: 95.7+ KB\n",
      "None\n",
      "               PID        area      poptotal    popdensity      popwhite  \\\n",
      "count   437.000000  437.000000  4.370000e+02    437.000000  4.370000e+02   \n",
      "mean   1437.338673    0.033169  9.613030e+04   3097.742985  8.183992e+04   \n",
      "std     876.390266    0.014679  2.981705e+05   7664.751786  2.001966e+05   \n",
      "min     561.000000    0.005000  1.701000e+03     85.050000  4.160000e+02   \n",
      "25%     670.000000    0.024000  1.884000e+04    622.407407  1.863000e+04   \n",
      "50%    1221.000000    0.030000  3.532400e+04   1156.208330  3.447100e+04   \n",
      "75%    2059.000000    0.038000  7.565100e+04   2330.000000  7.296800e+04   \n",
      "max    3052.000000    0.110000  5.105067e+06  88018.396600  3.204947e+06   \n",
      "\n",
      "           popblack  popamerindian       popasian       popother   percwhite  \\\n",
      "count  4.370000e+02     437.000000     437.000000     437.000000  437.000000   \n",
      "mean   1.102388e+04     343.109840    1310.464531    1612.931350   95.558441   \n",
      "std    7.895827e+04     868.926751    9518.394189   18526.540699    7.087358   \n",
      "min    0.000000e+00       4.000000       0.000000       0.000000   10.694087   \n",
      "25%    2.900000e+01      44.000000      35.000000      20.000000   94.886032   \n",
      "50%    2.010000e+02      94.000000     102.000000      66.000000   98.032742   \n",
      "75%    1.291000e+03     288.000000     401.000000     345.000000   99.074935   \n",
      "max    1.317147e+06   10289.000000  188565.000000  384119.000000   99.822821   \n",
      "\n",
      "       ...     perchsd  percollege    percprof  poppovertyknown  \\\n",
      "count  ...  437.000000  437.000000  437.000000     4.370000e+02   \n",
      "mean   ...   73.965546   18.272736    4.447259     9.364228e+04   \n",
      "std    ...    5.843177    6.261908    2.408427     2.932351e+05   \n",
      "min    ...   46.912261    7.336108    0.520291     1.696000e+03   \n",
      "25%    ...   71.325329   14.113725    2.997957     1.836400e+04   \n",
      "50%    ...   74.246891   16.797562    3.814239     3.378800e+04   \n",
      "75%    ...   77.195345   20.549893    4.949324     7.284000e+04   \n",
      "max    ...   88.898674   48.078510   20.791321     5.023523e+06   \n",
      "\n",
      "       percpovertyknown  percbelowpoverty  percchildbelowpovert  \\\n",
      "count        437.000000        437.000000            437.000000   \n",
      "mean          97.110267         12.510505             16.447464   \n",
      "std            2.749863          5.150155              7.228634   \n",
      "min           80.902441          2.180168              1.918955   \n",
      "25%           96.894572          9.198715             11.624088   \n",
      "50%           98.169562         11.822313             15.270164   \n",
      "75%           98.598636         15.133226             20.351878   \n",
      "max           99.860384         48.691099             64.308477   \n",
      "\n",
      "       percadultpoverty  percelderlypoverty     inmetro  \n",
      "count        437.000000          437.000000  437.000000  \n",
      "mean          10.918798           11.389043    0.343249  \n",
      "std            5.109166            3.661259    0.475338  \n",
      "min            1.938504            3.547067    0.000000  \n",
      "25%            7.668009            8.911763    0.000000  \n",
      "50%           10.007610           10.869119    0.000000  \n",
      "75%           13.182182           13.412162    1.000000  \n",
      "max           43.312464           31.161972    1.000000  \n",
      "\n",
      "[8 rows x 25 columns]\n"
     ]
    }
   ],
   "source": [
    "mid = pd.read_csv('./midwest.csv')\n",
    "print(mid.info())\n"
   ]
  },
  {
   "cell_type": "code",
   "execution_count": 25,
   "metadata": {},
   "outputs": [
    {
     "name": "stdout",
     "output_type": "stream",
     "text": [
      "                PID  county state        area      poptotal    popdensity  \\\n",
      "count    437.000000     437   437  437.000000  4.370000e+02    437.000000   \n",
      "unique          NaN     320     5         NaN           NaN           NaN   \n",
      "top             NaN  MONROE    IL         NaN           NaN           NaN   \n",
      "freq            NaN       5   102         NaN           NaN           NaN   \n",
      "mean    1437.338673     NaN   NaN    0.033169  9.613030e+04   3097.742985   \n",
      "std      876.390266     NaN   NaN    0.014679  2.981705e+05   7664.751786   \n",
      "min      561.000000     NaN   NaN    0.005000  1.701000e+03     85.050000   \n",
      "25%      670.000000     NaN   NaN    0.024000  1.884000e+04    622.407407   \n",
      "50%     1221.000000     NaN   NaN    0.030000  3.532400e+04   1156.208330   \n",
      "75%     2059.000000     NaN   NaN    0.038000  7.565100e+04   2330.000000   \n",
      "max     3052.000000     NaN   NaN    0.110000  5.105067e+06  88018.396600   \n",
      "\n",
      "            popwhite      popblack  popamerindian       popasian  ...  \\\n",
      "count   4.370000e+02  4.370000e+02     437.000000     437.000000  ...   \n",
      "unique           NaN           NaN            NaN            NaN  ...   \n",
      "top              NaN           NaN            NaN            NaN  ...   \n",
      "freq             NaN           NaN            NaN            NaN  ...   \n",
      "mean    8.183992e+04  1.102388e+04     343.109840    1310.464531  ...   \n",
      "std     2.001966e+05  7.895827e+04     868.926751    9518.394189  ...   \n",
      "min     4.160000e+02  0.000000e+00       4.000000       0.000000  ...   \n",
      "25%     1.863000e+04  2.900000e+01      44.000000      35.000000  ...   \n",
      "50%     3.447100e+04  2.010000e+02      94.000000     102.000000  ...   \n",
      "75%     7.296800e+04  1.291000e+03     288.000000     401.000000  ...   \n",
      "max     3.204947e+06  1.317147e+06   10289.000000  188565.000000  ...   \n",
      "\n",
      "        percollege    percprof  poppovertyknown  percpovertyknown  \\\n",
      "count   437.000000  437.000000     4.370000e+02        437.000000   \n",
      "unique         NaN         NaN              NaN               NaN   \n",
      "top            NaN         NaN              NaN               NaN   \n",
      "freq           NaN         NaN              NaN               NaN   \n",
      "mean     18.272736    4.447259     9.364228e+04         97.110267   \n",
      "std       6.261908    2.408427     2.932351e+05          2.749863   \n",
      "min       7.336108    0.520291     1.696000e+03         80.902441   \n",
      "25%      14.113725    2.997957     1.836400e+04         96.894572   \n",
      "50%      16.797562    3.814239     3.378800e+04         98.169562   \n",
      "75%      20.549893    4.949324     7.284000e+04         98.598636   \n",
      "max      48.078510   20.791321     5.023523e+06         99.860384   \n",
      "\n",
      "        percbelowpoverty  percchildbelowpovert  percadultpoverty  \\\n",
      "count         437.000000            437.000000        437.000000   \n",
      "unique               NaN                   NaN               NaN   \n",
      "top                  NaN                   NaN               NaN   \n",
      "freq                 NaN                   NaN               NaN   \n",
      "mean           12.510505             16.447464         10.918798   \n",
      "std             5.150155              7.228634          5.109166   \n",
      "min             2.180168              1.918955          1.938504   \n",
      "25%             9.198715             11.624088          7.668009   \n",
      "50%            11.822313             15.270164         10.007610   \n",
      "75%            15.133226             20.351878         13.182182   \n",
      "max            48.691099             64.308477         43.312464   \n",
      "\n",
      "        percelderlypoverty     inmetro  category  \n",
      "count           437.000000  437.000000       437  \n",
      "unique                 NaN         NaN        16  \n",
      "top                    NaN         NaN       AAR  \n",
      "freq                   NaN         NaN       193  \n",
      "mean             11.389043    0.343249       NaN  \n",
      "std               3.661259    0.475338       NaN  \n",
      "min               3.547067    0.000000       NaN  \n",
      "25%               8.911763    0.000000       NaN  \n",
      "50%              10.869119    0.000000       NaN  \n",
      "75%              13.412162    1.000000       NaN  \n",
      "max              31.161972    1.000000       NaN  \n",
      "\n",
      "[11 rows x 28 columns]\n"
     ]
    }
   ],
   "source": [
    "print(mid.describe(include='all'))"
   ]
  },
  {
   "cell_type": "code",
   "execution_count": 27,
   "metadata": {},
   "outputs": [
    {
     "name": "stdout",
     "output_type": "stream",
     "text": [
      "   PID     county state   area  total   popdensity  popwhite  popblack  \\\n",
      "0  561      ADAMS    IL  0.052  66090  1270.961540     63917      1702   \n",
      "1  562  ALEXANDER    IL  0.014  10626   759.000000      7054      3496   \n",
      "2  563       BOND    IL  0.022  14991   681.409091     14477       429   \n",
      "3  564      BOONE    IL  0.017  30806  1812.117650     29344       127   \n",
      "4  565      BROWN    IL  0.018   5836   324.222222      5264       547   \n",
      "\n",
      "   popamerindian  asian  ...  percollege  percprof  poppovertyknown  \\\n",
      "0             98    249  ...   19.631392  4.355859            63628   \n",
      "1             19     48  ...   11.243308  2.870315            10529   \n",
      "2             35     16  ...   17.033819  4.488572            14235   \n",
      "3             46    150  ...   17.278954  4.197800            30337   \n",
      "4             14      5  ...   14.475999  3.367680             4815   \n",
      "\n",
      "   percpovertyknown  percbelowpoverty  percchildbelowpovert  percadultpoverty  \\\n",
      "0         96.274777         13.151443             18.011717         11.009776   \n",
      "1         99.087145         32.244278             45.826514         27.385647   \n",
      "2         94.956974         12.068844             14.036061         10.852090   \n",
      "3         98.477569          7.209019             11.179536          5.536013   \n",
      "4         82.505140         13.520249             13.022889         11.143211   \n",
      "\n",
      "   percelderlypoverty  inmetro  category  \n",
      "0           12.443812        0       AAR  \n",
      "1           25.228976        0       LHR  \n",
      "2           12.697410        0       AAR  \n",
      "3            6.217047        1       ALU  \n",
      "4           19.200000        0       AAR  \n",
      "\n",
      "[5 rows x 28 columns]\n"
     ]
    }
   ],
   "source": [
    "new_mid = mid.copy()\n",
    "new_mid = new_mid.rename(columns={'poptotal':'total','popasian':'asian'})\n",
    "print(new_mid.head())\n"
   ]
  },
  {
   "cell_type": "code",
   "execution_count": 30,
   "metadata": {},
   "outputs": [
    {
     "name": "stdout",
     "output_type": "stream",
     "text": [
      "0      0.376759\n",
      "1      0.451722\n",
      "2      0.106731\n",
      "3      0.486918\n",
      "4      0.085675\n",
      "         ...   \n",
      "432    0.885746\n",
      "433    0.199549\n",
      "434    0.221821\n",
      "435    1.231471\n",
      "436    0.980912\n",
      "Name: asian100, Length: 437, dtype: float64\n"
     ]
    },
    {
     "data": {
      "image/png": "[encoded data removed]",
      "text/plain": [
       "<Figure size 640x480 with 1 Axes>"
      ]
     },
     "metadata": {},
     "output_type": "display_data"
    }
   ],
   "source": [
    "new_mid['asian100'] = (new_mid['asian']/new_mid['total'])*100\n",
    "print(new_mid['asian100'])\n",
    "import matplotlib.pyplot as plt\n",
    "plt.hist(new_mid['asian100'])\n",
    "plt.show()"
   ]
  },
  {
   "cell_type": "code",
   "execution_count": 32,
   "metadata": {},
   "outputs": [
    {
     "name": "stdout",
     "output_type": "stream",
     "text": [
      "0.4872461834357345\n",
      "0      small\n",
      "1      small\n",
      "2      small\n",
      "3      small\n",
      "4      small\n",
      "       ...  \n",
      "432    large\n",
      "433    small\n",
      "434    small\n",
      "435    large\n",
      "436    large\n",
      "Name: asian_check, Length: 437, dtype: object\n",
      "small    318\n",
      "large    119\n",
      "Name: asian_check, dtype: int64\n"
     ]
    }
   ],
   "source": [
    "asian_mean = new_mid['asian100'].mean()\n",
    "print(asian_mean) #아시아 백분율 평균\n",
    "new_mid['asian_check'] = np.where(new_mid['asian100']>asian_mean,'large','small')\n",
    "print(new_mid['asian_check'])\n",
    "print(new_mid['asian_check'].value_counts())"
   ]
  },
  {
   "cell_type": "code",
   "execution_count": 33,
   "metadata": {},
   "outputs": [
    {
     "data": {
      "text/plain": [
       "<BarContainer object of 2 artists>"
      ]
     },
     "execution_count": 33,
     "metadata": {},
     "output_type": "execute_result"
    },
    {
     "data": {
      "image/png": "[encoded data removed]",
      "text/plain": [
       "<Figure size 640x480 with 1 Axes>"
      ]
     },
     "metadata": {},
     "output_type": "display_data"
    }
   ],
   "source": [
    "plt.bar(new_mid['asian_check'].unique(),new_mid['asian_check'].value_counts())"
   ]
  },
  {
   "cell_type": "code",
   "execution_count": null,
   "metadata": {},
   "outputs": [],
   "source": []
  }
 ],
 "metadata": {
  "kernelspec": {
   "display_name": "pytorch37",
   "language": "python",
   "name": "python3"
  },
  "language_info": {
   "codemirror_mode": {
    "name": "ipython",
    "version": 3
   },
   "file_extension": ".py",
   "mimetype": "text/x-python",
   "name": "python",
   "nbconvert_exporter": "python",
   "pygments_lexer": "ipython3",
   "version": "3.7.15"
  }
 },
 "nbformat": 4,
 "nbformat_minor": 2
}
